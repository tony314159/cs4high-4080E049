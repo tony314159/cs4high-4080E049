{
  "nbformat": 4,
  "nbformat_minor": 0,
  "metadata": {
    "colab": {
      "name": "Untitled1.ipynb",
      "version": "0.3.2",
      "provenance": [],
      "include_colab_link": true
    },
    "kernelspec": {
      "name": "python3",
      "display_name": "Python 3"
    }
  },
  "cells": [
    {
      "cell_type": "markdown",
      "metadata": {
        "id": "view-in-github",
        "colab_type": "text"
      },
      "source": [
        "<a href=\"https://colab.research.google.com/github/tony314159/cs4high-4080E049/blob/master/Untitled1.ipynb\" target=\"_parent\"><img src=\"https://colab.research.google.com/assets/colab-badge.svg\" alt=\"Open In Colab\"/></a>"
      ]
    },
    {
      "cell_type": "code",
      "metadata": {
        "id": "PsKN2vXdqcSf",
        "colab_type": "code",
        "colab": {
          "base_uri": "https://localhost:8080/",
          "height": 289
        },
        "outputId": "ca7b7461-d8d7-4178-887a-018544c1e063"
      },
      "source": [
        "print(\"           *    \")\n",
        "print(\"          ***       \")\n",
        "print(\"         *****       \")\n",
        "print(\"        *******      \")\n",
        "print(\"       *********     \")\n",
        "print(\"         *****       \")\n",
        "print(\"        *******      \")\n",
        "print(\"       *********     \")\n",
        "print(\"      ***********                               \")\n",
        "print(\"     *************            q    p                      \")\n",
        "print(\"    ***************        ------------                             \")\n",
        "print(\"          ***             |   |  |   |       \")\n",
        "print(\"          ***             |****  ****|       \")\n",
        "print(\"          ***             |****  ****|  \")\n",
        "print(\"          ***             |   |  |   |     \")\n",
        "print(\"          ***             ------------       \")"
      ],
      "execution_count": 6,
      "outputs": [
        {
          "output_type": "stream",
          "text": [
            "           *    \n",
            "          ***       \n",
            "         *****       \n",
            "        *******      \n",
            "       *********     \n",
            "         *****       \n",
            "        *******      \n",
            "       *********     \n",
            "      ***********                               \n",
            "     *************            q    p                      \n",
            "    ***************        ------------                             \n",
            "          ***             |   |  |   |       \n",
            "          ***             |****  ****|       \n",
            "          ***             |****  ****|  \n",
            "          ***             |   |  |   |     \n",
            "          ***             ------------       \n"
          ],
          "name": "stdout"
        }
      ]
    }
  ]
}
